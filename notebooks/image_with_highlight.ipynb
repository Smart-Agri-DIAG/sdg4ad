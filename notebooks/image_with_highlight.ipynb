{
 "cells": [
  {
   "cell_type": "code",
   "execution_count": 50,
   "metadata": {},
   "outputs": [
    {
     "name": "stdout",
     "output_type": "stream",
     "text": [
      "Processing bad_grape.jpg\n",
      "Processing good_grape.jpg\n",
      "Processing bad_grape_4.jpg\n",
      "Processing good_grape_4.jpg\n",
      "Processing bad_grape_2.jpg\n",
      "Processing good_grape_3.jpg\n",
      "Processing bad_grape_3.jpg\n",
      "Processing good_grape_2.jpg\n"
     ]
    }
   ],
   "source": [
    "from PIL import Image, ImageDraw\n",
    "import os\n",
    "\n",
    "import cv2\n",
    "import numpy as np\n",
    "\n",
    "\n",
    "def draw_border_around_visible_pixels(image_a_path, image_b_path, border_color=(255, 0, 0), border_width=7):\n",
    "    image_a = Image.open(image_a_path)\n",
    "    image_b = Image.open(image_b_path).convert(\"RGBA\")\n",
    "    mask = np.array(image_b.split()[3])\n",
    "\n",
    "    # Find contours in the mask\n",
    "    contours, _ = cv2.findContours(mask, cv2.RETR_EXTERNAL, cv2.CHAIN_APPROX_SIMPLE)\n",
    "    \n",
    "    # Draw the contours on image A\n",
    "    draw = ImageDraw.Draw(image_a)\n",
    "    for contour in contours:\n",
    "        contour = contour.squeeze()\n",
    "        contour = [tuple(point) for point in contour]\n",
    "        draw.line(contour + [contour[0]], fill=border_color, width=border_width)\n",
    "    \n",
    "    return image_a\n",
    "\n",
    "\n",
    "folder_a = 'folderA'\n",
    "folder_b = 'folderB'\n",
    "output_folder = 'output'\n",
    "\n",
    "if not os.path.exists(output_folder):\n",
    "    os.makedirs(output_folder)\n",
    "\n",
    "for filename in os.listdir(folder_a):\n",
    "    print(f\"Processing {filename}\")\n",
    "    file_a_path = os.path.join(folder_a, filename)\n",
    "    filename = filename.replace('.jpg', '.png')\n",
    "    file_b_path = os.path.join(folder_b, filename)\n",
    "    \n",
    "    if os.path.isfile(file_a_path) and os.path.isfile(file_b_path):\n",
    "        result_image = draw_border_around_visible_pixels(file_a_path, file_b_path)\n",
    "        # Convert the image to RGB mode before saving as JPEG\n",
    "        result_image.save(os.path.join(output_folder, filename))\n"
   ]
  }
 ],
 "metadata": {
  "kernelspec": {
   "display_name": "RemoteSensing",
   "language": "python",
   "name": "python3"
  },
  "language_info": {
   "codemirror_mode": {
    "name": "ipython",
    "version": 3
   },
   "file_extension": ".py",
   "mimetype": "text/x-python",
   "name": "python",
   "nbconvert_exporter": "python",
   "pygments_lexer": "ipython3",
   "version": "3.12.7"
  }
 },
 "nbformat": 4,
 "nbformat_minor": 2
}
